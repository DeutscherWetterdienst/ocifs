{
 "cells": [
  {
   "cell_type": "markdown",
   "id": "909f1aef",
   "metadata": {},
   "source": [
    "Copyright (c) 2021, 2022 Oracle and/or its affiliates.\n",
    "Licensed under the Universal Permissive License v 1.0 as shown at https://oss.oracle.com/licenses/upl/"
   ]
  },
  {
   "cell_type": "markdown",
   "metadata": {},
   "source": [
    "## Getting Started with ocifs\n",
    "\n",
    "The Oracle Cloud Infrastructure (OCI) Object Storage filesystem (ocifs) is an fsspec implementation for use with Object Storage."
   ]
  },
  {
   "cell_type": "markdown",
   "metadata": {},
   "source": [
    "### Quickstart with Pandas"
   ]
  },
  {
   "cell_type": "markdown",
   "metadata": {},
   "source": [
    "Begin by importing `ocifs` and `pandas`. When importing `ocifs`, you are registering the `oci` protocol with `pandas`:"
   ]
  },
  {
   "cell_type": "code",
   "execution_count": 1,
   "metadata": {},
   "outputs": [],
   "source": [
    "import ocifs\n",
    "import pandas as pd"
   ]
  },
  {
   "cell_type": "markdown",
   "metadata": {},
   "source": [
    "Now that the `oci` protocol is registered with `pandas`, you can read and write from and to Object Storage as easily as you can locally. For example, you could read an Excel file, `path/file.xls`, from your bucket in a namespace easily using:"
   ]
  },
  {
   "cell_type": "code",
   "execution_count": null,
   "metadata": {},
   "outputs": [],
   "source": [
    "df = pd.read_excel(\"oci://bucket@namespace/path/file.xls\",\n",
    "                   storage_options={\"config\": \"~/.oci/config\"})"
   ]
  },
  {
   "cell_type": "code",
   "execution_count": null,
   "metadata": {},
   "outputs": [],
   "source": [
    "df.to_parquet(\"oci://bucket@namespace/path/file.parquet\",\n",
    "              storage_options={\"config\": \"~/.oci/config\"})"
   ]
  },
  {
   "cell_type": "markdown",
   "metadata": {},
   "source": [
    "You could also use [Dask](https://docs.dask.org/en/latest/index.html):"
   ]
  },
  {
   "cell_type": "code",
   "execution_count": null,
   "metadata": {},
   "outputs": [],
   "source": [
    "from dask import dataframe as dd\n",
    "\n",
    "ddf = dd.read_csv(\"oci://bucket@namespace/path/file*.csv\",\n",
    "                  storage_options={\"config\": \"~/.oci/config\"})"
   ]
  },
  {
   "cell_type": "markdown",
   "metadata": {},
   "source": [
    "The `storage_options` parameter contains a dictionary of arguments that are passed to the underlying `OCIFileSystem` method. The following `docstring` lists the valid arguments to storage options:"
   ]
  },
  {
   "cell_type": "code",
   "execution_count": 5,
   "metadata": {},
   "outputs": [
    {
     "data": {
      "text/plain": [
       "\u001b[0;31mInit signature:\u001b[0m \u001b[0mocifs\u001b[0m\u001b[0;34m.\u001b[0m\u001b[0mOCIFileSystem\u001b[0m\u001b[0;34m(\u001b[0m\u001b[0;34m*\u001b[0m\u001b[0margs\u001b[0m\u001b[0;34m,\u001b[0m \u001b[0;34m**\u001b[0m\u001b[0mkwargs\u001b[0m\u001b[0;34m)\u001b[0m\u001b[0;34m\u001b[0m\u001b[0;34m\u001b[0m\u001b[0m\n",
       "\u001b[0;31mDocstring:\u001b[0m     \n",
       "Access oci as if it were a file system.\n",
       "This exposes a filesystem-like API (ls, cp, open, etc.) on top of oci\n",
       "storage.\n",
       "Parameters\n",
       "----------\n",
       "config : Union[dict, str, None]\n",
       "    Config for the connection to OCI. \n",
       "    If a dict, it should be returned from oci.config.from_file\n",
       "    If a str, it should be the location of the config file\n",
       "    If None, user should have a Resource Principal configured environment\n",
       "profile : str\n",
       "    The profile to use from the config (If the config is passed in)\n",
       "default_block_size: int (None)\n",
       "    If given, the default block size value used for ``open()``, if no\n",
       "    specific value is given at all time. The built-in default is 5MB.\n",
       "config_kwargs : dict of parameters passed to the OCI Client upon connection\n",
       "    This will first scan for `profile` (in the case of a passed in config)\n",
       "    Or `resource_principal_token_path_provider` (in the case of no config)\n",
       "    The rest will be passed to the ObjectStorageClient\n",
       "    more info here: oci.object_storage.ObjectStorageClient.__init__\n",
       "oci_additional_kwargs : dict of parameters that are used when calling oci api\n",
       "    methods. Typically used for things like \"retry_strategy\" or .\n",
       "kwargs : other parameters for oci session\n",
       "    This includes default parameters for tenancy, namespace, and region\n",
       "    Any other parameters are passed along to AbstractFileSystem's init method.\n",
       "Examples\n",
       "--------\n",
       ">>> fs = OCIFileSystem(config=config)  # doctest: +SKIP\n",
       ">>> fs.ls('my-bucket@my-namespace/')  # doctest: +SKIP\n",
       "['my-file.txt']\n",
       ">>> with fs.open('my-bucket@my-namespace/my-file.txt', mode='rb') as f:  # doctest: +SKIP\n",
       "...     print(f.read())  # doctest: +SKIP\n",
       "b'Hello, world!'\n",
       "\u001b[0;31mInit docstring:\u001b[0m\n",
       "Create and configure file-system instance\n",
       "\n",
       "Instances may be cachable, so if similar enough arguments are seen\n",
       "a new instance is not required. The token attribute exists to allow\n",
       "implementations to cache instances if they wish.\n",
       "\n",
       "A reasonable default should be provided if there are no arguments.\n",
       "\n",
       "Subclasses should call this method.\n",
       "\n",
       "Parameters\n",
       "----------\n",
       "use_listings_cache, listings_expiry_time, max_paths:\n",
       "    passed to ``DirCache``, if the implementation supports\n",
       "    directory listing caching. Pass use_listings_cache=False\n",
       "    to disable such caching.\n",
       "skip_instance_cache: bool\n",
       "    If this is a cachable implementation, pass True here to force\n",
       "    creating a new instance even if a matching instance exists, and prevent\n",
       "    storing this instance.\n",
       "asynchronous: bool\n",
       "loop: asyncio-compatible IOLoop or None\n",
       "\u001b[0;31mFile:\u001b[0m           ~/ocifs/ocifs/core.py\n",
       "\u001b[0;31mType:\u001b[0m           _Cached\n",
       "\u001b[0;31mSubclasses:\u001b[0m     \n"
      ]
     },
     "metadata": {},
     "output_type": "display_data"
    }
   ],
   "source": [
    "ocifs.OCIFileSystem?"
   ]
  },
  {
   "cell_type": "markdown",
   "metadata": {},
   "source": [
    "### Quickstart to UNIX Operations"
   ]
  },
  {
   "cell_type": "markdown",
   "metadata": {},
   "source": [
    "You can interact with the filesytem directly using most UNIX commands like `ls`, `cp`, `exists`, `mkdir`, `rm`, `walk`, `find`, and so on."
   ]
  },
  {
   "cell_type": "markdown",
   "metadata": {},
   "source": [
    "Instantiate a filesystem from your configuration, see Getting Connected. Every filesystem instance operates within the home region of the configuration. The `cp` command is the only command that has cross-region support. You must create a unique filesystem instance for each region."
   ]
  },
  {
   "cell_type": "code",
   "execution_count": 3,
   "metadata": {},
   "outputs": [],
   "source": [
    "fs = ocifs.OCIFileSystem(config=\"~/.oci/config\", profile=\"DEFAULT\", default_block_size=5*2**20)"
   ]
  },
  {
   "cell_type": "code",
   "execution_count": null,
   "metadata": {},
   "outputs": [],
   "source": [
    "fs.ls(\"oci://bucket@namespace/path\")\n",
    "# []"
   ]
  },
  {
   "cell_type": "code",
   "execution_count": null,
   "metadata": {},
   "outputs": [],
   "source": [
    "fs.touch(\"oci://bucket@namespace/path/file.txt\")"
   ]
  },
  {
   "cell_type": "code",
   "execution_count": null,
   "metadata": {},
   "outputs": [],
   "source": [
    "fs.exists(\"oci://bucket@namespace/path/file.txt\")\n",
    "# True"
   ]
  },
  {
   "cell_type": "code",
   "execution_count": null,
   "metadata": {},
   "outputs": [],
   "source": [
    "fs.cat(\"oci://bucket@namespace/path/file.txt\")\n",
    "# \"\""
   ]
  },
  {
   "cell_type": "code",
   "execution_count": null,
   "metadata": {},
   "outputs": [],
   "source": [
    "fs.rm(\"oci://bucket@namespace\", recursive=True)"
   ]
  },
  {
   "cell_type": "code",
   "execution_count": null,
   "metadata": {},
   "outputs": [],
   "source": [
    "fs.exists(\"oci://bucket@namespace/path/file.txt\")\n",
    "# False"
   ]
  },
  {
   "cell_type": "markdown",
   "metadata": {},
   "source": [
    "Following are examples of how you can use the `OCIFileSystem` and `OCIFile` objects."
   ]
  }
 ],
 "metadata": {
  "kernelspec": {
   "display_name": "ds",
   "language": "python",
   "name": "ds"
  },
  "language_info": {
   "codemirror_mode": {
    "name": "ipython",
    "version": 3
   },
   "file_extension": ".py",
   "mimetype": "text/x-python",
   "name": "python",
   "nbconvert_exporter": "python",
   "pygments_lexer": "ipython3",
   "version": "3.7.9"
  }
 },
 "nbformat": 4,
 "nbformat_minor": 5
}
